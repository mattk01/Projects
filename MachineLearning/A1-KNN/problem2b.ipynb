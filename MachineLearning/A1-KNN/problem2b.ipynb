{
  "cells": [
    {
      "cell_type": "code",
      "execution_count": 8,
      "metadata": {
        "outputId": "818bb4ec-2f39-4391-8735-99148e0e8af8",
        "colab": {
          "base_uri": "https://localhost:8080/",
          "height": 296
        },
        "id": "ULfXSXKZhoDc"
      },
      "outputs": [
        {
          "output_type": "display_data",
          "data": {
            "text/plain": [
              "<Figure size 432x288 with 1 Axes>"
            ],
            "image/png": "[encoded data removed]"
          },
          "metadata": {
            "needs_background": "light"
          }
        },
        {
          "output_type": "display_data",
          "data": {
            "text/plain": [
              "<IPython.core.display.Javascript object>"
            ],
            "application/javascript": [
              "\n",
              "    async function download(id, filename, size) {\n",
              "      if (!google.colab.kernel.accessAllowed) {\n",
              "        return;\n",
              "      }\n",
              "      const div = document.createElement('div');\n",
              "      const label = document.createElement('label');\n",
              "      label.textContent = `Downloading \"${filename}\": `;\n",
              "      div.appendChild(label);\n",
              "      const progress = document.createElement('progress');\n",
              "      progress.max = size;\n",
              "      div.appendChild(progress);\n",
              "      document.body.appendChild(div);\n",
              "\n",
              "      const buffers = [];\n",
              "      let downloaded = 0;\n",
              "\n",
              "      const channel = await google.colab.kernel.comms.open(id);\n",
              "      // Send a message to notify the kernel that we're ready.\n",
              "      channel.send({})\n",
              "\n",
              "      for await (const message of channel.messages) {\n",
              "        // Send a message to notify the kernel that we're ready.\n",
              "        channel.send({})\n",
              "        if (message.buffers) {\n",
              "          for (const buffer of message.buffers) {\n",
              "            buffers.push(buffer);\n",
              "            downloaded += buffer.byteLength;\n",
              "            progress.value = downloaded;\n",
              "          }\n",
              "        }\n",
              "      }\n",
              "      const blob = new Blob(buffers, {type: 'application/binary'});\n",
              "      const a = document.createElement('a');\n",
              "      a.href = window.URL.createObjectURL(blob);\n",
              "      a.download = filename;\n",
              "      div.appendChild(a);\n",
              "      a.click();\n",
              "      div.remove();\n",
              "    }\n",
              "  "
            ]
          },
          "metadata": {}
        },
        {
          "output_type": "display_data",
          "data": {
            "text/plain": [
              "<IPython.core.display.Javascript object>"
            ],
            "application/javascript": [
              "download(\"download_a58ae31e-1058-4153-849e-e75929ea8253\", \"knnClassifyAccD.pdf\", 10230)"
            ]
          },
          "metadata": {}
        }
      ],
      "source": [
        "# Assignment 1\n",
        "# Machine Learning class: COMP 5630/6630/6630-D01\n",
        "# Anh Nguyen <anh.ng8@gmail.com>\n",
        "\n",
        "import numpy as np\n",
        "import matplotlib.pyplot as plt\n",
        "\n",
        "try:\n",
        "    import probml_utils as pml\n",
        "except ModuleNotFoundError:\n",
        "    %pip install -qq git+https://github.com/probml/probml-utils.git\n",
        "    import probml_utils as pml\n",
        "\n",
        "\n",
        "try:\n",
        "    from sklearn.neighbors import KNeighborsClassifier as KNN\n",
        "except ModuleNotFoundError:\n",
        "    %pip install -qq scikit-learn\n",
        "    from sklearn.neighbors import KNeighborsClassifier as KNN\n",
        "from sklearn.model_selection import cross_val_score\n",
        "\n",
        "\n",
        "from sklearn.datasets import make_blobs\n",
        "\n",
        "# measure k-NN accuracy as the number of dimensions increases\n",
        "Ds = [1, 2, 5, 10,  20, 50, 200, 1000]\n",
        "\n",
        "train_accuracy_scores = []\n",
        "test_accuracy_scores = []\n",
        "k = 10\n",
        "n_points = 100\n",
        "\n",
        "for D in Ds:\n",
        "\n",
        "  # -------- begin generating train and test points and labels\n",
        "  X, y = make_blobs(n_samples=n_points, centers=6, n_features=D, cluster_std=D, random_state=30)\n",
        "  ntrain = n_points // 2\n",
        "\n",
        "  x_train = X[:ntrain]\n",
        "  y_train = y[:ntrain]\n",
        "  x_test = X[ntrain:]\n",
        "  y_test = y[ntrain:]\n",
        "  # -------- finish generating train and test points and labels\n",
        "\n",
        "  # train a k-NN classifier on the above data\n",
        "  knn = KNN(n_neighbors=k)\n",
        "  knn.fit(x_train, y_train)\n",
        "  train_accuracy_scores.append(knn.score(x_train, y_train))\n",
        "  test_accuracy_scores.append(knn.score(x_test, y_test))\n",
        "\n",
        "# plotting  \n",
        "plt.figure()\n",
        "plt.plot(Ds, train_accuracy_scores, \"bs:\", label=\"train\")\n",
        "plt.plot(Ds, test_accuracy_scores, \"rx-\", label=\"test\")\n",
        "plt.legend()\n",
        "plt.xlabel(\"D\")\n",
        "plt.ylim([-0.1, 1.1])\n",
        "plt.xticks(Ds)\n",
        "plt.ylabel(\"accuracy\")\n",
        "plt.savefig(\"knnClassifyAccD.pdf\")\n",
        "\n",
        "plt.show()\n",
        "\n",
        "# Uncomment to save the disk\n",
        "from google.colab import files\n",
        "files.download(\"knnClassifyAccD.pdf\") \n",
        "\n"
      ],
      "id": "ULfXSXKZhoDc"
    }
  ],
  "metadata": {
    "colab": {
      "provenance": []
    },
    "language_info": {
      "name": "python"
    },
    "kernelspec": {
      "name": "python3",
      "display_name": "Python 3"
    },
    "gpuClass": "standard"
  },
  "nbformat": 4,
  "nbformat_minor": 5
}