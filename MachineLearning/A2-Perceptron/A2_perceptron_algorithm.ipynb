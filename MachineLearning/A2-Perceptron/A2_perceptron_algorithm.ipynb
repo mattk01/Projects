{
  "cells": [
    {
      "cell_type": "code",
      "execution_count": 26,
      "id": "44b6d079",
      "metadata": {
        "id": "44b6d079",
        "outputId": "65eb7491-d65b-40ea-bb50-f9e870772486",
        "colab": {
          "base_uri": "https://localhost:8080/",
          "height": 1000
        }
      },
      "outputs": [
        {
          "output_type": "stream",
          "name": "stderr",
          "text": [
            "<ipython-input-26-b34d4cd529aa>:70: DeprecationWarning: `np.int` is a deprecated alias for the builtin `int`. To silence this warning, use `int` by itself. Doing this will not modify any behavior and is safe. When replacing `np.int`, you may wish to use e.g. `np.int64` or `np.int32` to specify the precision. If you wish to review your current use, check the release note link for additional information.\n",
            "Deprecated in NumPy 1.20; for more details and guidance: https://numpy.org/devdocs/release/1.20.0-notes.html#deprecations\n",
            "  y = np.concatenate([-np.ones(n, dtype=np.int), np.ones(n, dtype=np.int)])\n"
          ]
        },
        {
          "output_type": "display_data",
          "data": {
            "text/plain": [
              "<IPython.core.display.Javascript object>"
            ],
            "application/javascript": [
              "\n",
              "    async function download(id, filename, size) {\n",
              "      if (!google.colab.kernel.accessAllowed) {\n",
              "        return;\n",
              "      }\n",
              "      const div = document.createElement('div');\n",
              "      const label = document.createElement('label');\n",
              "      label.textContent = `Downloading \"${filename}\": `;\n",
              "      div.appendChild(label);\n",
              "      const progress = document.createElement('progress');\n",
              "      progress.max = size;\n",
              "      div.appendChild(progress);\n",
              "      document.body.appendChild(div);\n",
              "\n",
              "      const buffers = [];\n",
              "      let downloaded = 0;\n",
              "\n",
              "      const channel = await google.colab.kernel.comms.open(id);\n",
              "      // Send a message to notify the kernel that we're ready.\n",
              "      channel.send({})\n",
              "\n",
              "      for await (const message of channel.messages) {\n",
              "        // Send a message to notify the kernel that we're ready.\n",
              "        channel.send({})\n",
              "        if (message.buffers) {\n",
              "          for (const buffer of message.buffers) {\n",
              "            buffers.push(buffer);\n",
              "            downloaded += buffer.byteLength;\n",
              "            progress.value = downloaded;\n",
              "          }\n",
              "        }\n",
              "      }\n",
              "      const blob = new Blob(buffers, {type: 'application/binary'});\n",
              "      const a = document.createElement('a');\n",
              "      a.href = window.URL.createObjectURL(blob);\n",
              "      a.download = filename;\n",
              "      div.appendChild(a);\n",
              "      a.click();\n",
              "      div.remove();\n",
              "    }\n",
              "  "
            ]
          },
          "metadata": {}
        },
        {
          "output_type": "display_data",
          "data": {
            "text/plain": [
              "<IPython.core.display.Javascript object>"
            ],
            "application/javascript": [
              "download(\"download_30492fdc-ec9b-4262-aaf0-8f67599db3ab\", \"epoch_0.pdf\", 9394)"
            ]
          },
          "metadata": {}
        },
        {
          "output_type": "display_data",
          "data": {
            "text/plain": [
              "<IPython.core.display.Javascript object>"
            ],
            "application/javascript": [
              "\n",
              "    async function download(id, filename, size) {\n",
              "      if (!google.colab.kernel.accessAllowed) {\n",
              "        return;\n",
              "      }\n",
              "      const div = document.createElement('div');\n",
              "      const label = document.createElement('label');\n",
              "      label.textContent = `Downloading \"${filename}\": `;\n",
              "      div.appendChild(label);\n",
              "      const progress = document.createElement('progress');\n",
              "      progress.max = size;\n",
              "      div.appendChild(progress);\n",
              "      document.body.appendChild(div);\n",
              "\n",
              "      const buffers = [];\n",
              "      let downloaded = 0;\n",
              "\n",
              "      const channel = await google.colab.kernel.comms.open(id);\n",
              "      // Send a message to notify the kernel that we're ready.\n",
              "      channel.send({})\n",
              "\n",
              "      for await (const message of channel.messages) {\n",
              "        // Send a message to notify the kernel that we're ready.\n",
              "        channel.send({})\n",
              "        if (message.buffers) {\n",
              "          for (const buffer of message.buffers) {\n",
              "            buffers.push(buffer);\n",
              "            downloaded += buffer.byteLength;\n",
              "            progress.value = downloaded;\n",
              "          }\n",
              "        }\n",
              "      }\n",
              "      const blob = new Blob(buffers, {type: 'application/binary'});\n",
              "      const a = document.createElement('a');\n",
              "      a.href = window.URL.createObjectURL(blob);\n",
              "      a.download = filename;\n",
              "      div.appendChild(a);\n",
              "      a.click();\n",
              "      div.remove();\n",
              "    }\n",
              "  "
            ]
          },
          "metadata": {}
        },
        {
          "output_type": "display_data",
          "data": {
            "text/plain": [
              "<IPython.core.display.Javascript object>"
            ],
            "application/javascript": [
              "download(\"download_442b790c-5f73-434b-b7ac-eda855368457\", \"epoch_1.pdf\", 10878)"
            ]
          },
          "metadata": {}
        },
        {
          "output_type": "display_data",
          "data": {
            "text/plain": [
              "<IPython.core.display.Javascript object>"
            ],
            "application/javascript": [
              "\n",
              "    async function download(id, filename, size) {\n",
              "      if (!google.colab.kernel.accessAllowed) {\n",
              "        return;\n",
              "      }\n",
              "      const div = document.createElement('div');\n",
              "      const label = document.createElement('label');\n",
              "      label.textContent = `Downloading \"${filename}\": `;\n",
              "      div.appendChild(label);\n",
              "      const progress = document.createElement('progress');\n",
              "      progress.max = size;\n",
              "      div.appendChild(progress);\n",
              "      document.body.appendChild(div);\n",
              "\n",
              "      const buffers = [];\n",
              "      let downloaded = 0;\n",
              "\n",
              "      const channel = await google.colab.kernel.comms.open(id);\n",
              "      // Send a message to notify the kernel that we're ready.\n",
              "      channel.send({})\n",
              "\n",
              "      for await (const message of channel.messages) {\n",
              "        // Send a message to notify the kernel that we're ready.\n",
              "        channel.send({})\n",
              "        if (message.buffers) {\n",
              "          for (const buffer of message.buffers) {\n",
              "            buffers.push(buffer);\n",
              "            downloaded += buffer.byteLength;\n",
              "            progress.value = downloaded;\n",
              "          }\n",
              "        }\n",
              "      }\n",
              "      const blob = new Blob(buffers, {type: 'application/binary'});\n",
              "      const a = document.createElement('a');\n",
              "      a.href = window.URL.createObjectURL(blob);\n",
              "      a.download = filename;\n",
              "      div.appendChild(a);\n",
              "      a.click();\n",
              "      div.remove();\n",
              "    }\n",
              "  "
            ]
          },
          "metadata": {}
        },
        {
          "output_type": "display_data",
          "data": {
            "text/plain": [
              "<IPython.core.display.Javascript object>"
            ],
            "application/javascript": [
              "download(\"download_b35d981d-fc55-44e4-9265-1a811bbe50dc\", \"epoch_2.pdf\", 10799)"
            ]
          },
          "metadata": {}
        },
        {
          "output_type": "display_data",
          "data": {
            "text/plain": [
              "<IPython.core.display.Javascript object>"
            ],
            "application/javascript": [
              "\n",
              "    async function download(id, filename, size) {\n",
              "      if (!google.colab.kernel.accessAllowed) {\n",
              "        return;\n",
              "      }\n",
              "      const div = document.createElement('div');\n",
              "      const label = document.createElement('label');\n",
              "      label.textContent = `Downloading \"${filename}\": `;\n",
              "      div.appendChild(label);\n",
              "      const progress = document.createElement('progress');\n",
              "      progress.max = size;\n",
              "      div.appendChild(progress);\n",
              "      document.body.appendChild(div);\n",
              "\n",
              "      const buffers = [];\n",
              "      let downloaded = 0;\n",
              "\n",
              "      const channel = await google.colab.kernel.comms.open(id);\n",
              "      // Send a message to notify the kernel that we're ready.\n",
              "      channel.send({})\n",
              "\n",
              "      for await (const message of channel.messages) {\n",
              "        // Send a message to notify the kernel that we're ready.\n",
              "        channel.send({})\n",
              "        if (message.buffers) {\n",
              "          for (const buffer of message.buffers) {\n",
              "            buffers.push(buffer);\n",
              "            downloaded += buffer.byteLength;\n",
              "            progress.value = downloaded;\n",
              "          }\n",
              "        }\n",
              "      }\n",
              "      const blob = new Blob(buffers, {type: 'application/binary'});\n",
              "      const a = document.createElement('a');\n",
              "      a.href = window.URL.createObjectURL(blob);\n",
              "      a.download = filename;\n",
              "      div.appendChild(a);\n",
              "      a.click();\n",
              "      div.remove();\n",
              "    }\n",
              "  "
            ]
          },
          "metadata": {}
        },
        {
          "output_type": "display_data",
          "data": {
            "text/plain": [
              "<IPython.core.display.Javascript object>"
            ],
            "application/javascript": [
              "download(\"download_d06a93c9-3962-435a-a870-35284011d8a9\", \"epoch_3.pdf\", 10854)"
            ]
          },
          "metadata": {}
        },
        {
          "output_type": "display_data",
          "data": {
            "text/plain": [
              "<Figure size 432x288 with 1 Axes>"
            ],
            "image/png": "[encoded data removed]"
          },
          "metadata": {
            "needs_background": "light"
          }
        },
        {
          "output_type": "display_data",
          "data": {
            "text/plain": [
              "<Figure size 432x288 with 1 Axes>"
            ],
            "image/png": "[encoded data removed]"
          },
          "metadata": {
            "needs_background": "light"
          }
        },
        {
          "output_type": "display_data",
          "data": {
            "text/plain": [
              "<Figure size 432x288 with 1 Axes>"
            ],
            "image/png": "[encoded data removed]"
          },
          "metadata": {
            "needs_background": "light"
          }
        },
        {
          "output_type": "display_data",
          "data": {
            "text/plain": [
              "<Figure size 432x288 with 1 Axes>"
            ],
            "image/png": "[encoded data removed]"
          },
          "metadata": {
            "needs_background": "light"
          }
        }
      ],
      "source": [
        "# Assignment 2 - Perceptron\n",
        "# Machine Learning class: COMP 5630/6630/6630-D01\n",
        "# Anh Nguyen <anh.ng8@gmail.com>\n",
        "\n",
        "\n",
        "import numpy as np\n",
        "import matplotlib.pyplot as plt\n",
        "from google.colab import files\n",
        "\n",
        "figdir = \"../figures\"\n",
        "\n",
        "def save_fig(fname):\n",
        "    if figdir:\n",
        "        plt.savefig(os.path.join(figdir, fname))\n",
        "\n",
        "\n",
        "np.random.seed(3)\n",
        "\n",
        "\n",
        "class Perceptron(object):\n",
        "    def __init__(self, no_of_inputs):\n",
        "        self.weights = np.random.rand(no_of_inputs + 1)\n",
        "\n",
        "    def predict_single(self, inputs):\n",
        "        summation = np.dot(inputs, self.weights[1:]) + self.weights[0]\n",
        "        if summation > 0:\n",
        "            output = 1\n",
        "        else:\n",
        "            output = -1\n",
        "        return output\n",
        "\n",
        "    def predict(self, X):\n",
        "        n = X.shape[0]\n",
        "        yhat = np.zeros(n)\n",
        "        for i in range(n):\n",
        "            yhat[i] = self.predict_single(X[i, :])\n",
        "        return yhat\n",
        "\n",
        "    def fit(self, training_inputs, labels):\n",
        "        for inputs, label in zip(training_inputs, labels):\n",
        "            prediction = self.predict_single(inputs)\n",
        "\n",
        "            if prediction != label:\n",
        "              self.weights[1:] += (label) * inputs\n",
        "              self.weights[0] += (label)\n",
        "\n",
        "\n",
        "    def eval(self, training_inputs, labels):\n",
        "        accuracy = 0\n",
        "\n",
        "        for inputs, label in zip(training_inputs, labels):\n",
        "            prediction = self.predict_single(inputs)\n",
        "\n",
        "            if prediction == label:\n",
        "                accuracy += 1\n",
        "\n",
        "        return accuracy / len(labels)        \n",
        "\n",
        "\n",
        "def generateData(n):\n",
        "    # Generates a 2D linearly separable dataset with 2n samples.\n",
        "    # Red and black clusters in top left and bottom right quadrant\n",
        "    xb = (np.random.rand(n) * 2 - 1) / 2 - 0.5\n",
        "    yb = (np.random.rand(n) * 2 - 1) / 2 + 0.5\n",
        "    xr = (np.random.rand(n) * 2 - 1) / 2 + 0.5\n",
        "    yr = (np.random.rand(n) * 2 - 1) / 2 - 0.5\n",
        "    XB = np.stack([xb, yb], axis=1)\n",
        "    XR = np.stack([xr, yr], axis=1)\n",
        "    X = np.concatenate([XB, XR])\n",
        "    y = np.concatenate([-np.ones(n, dtype=np.int), np.ones(n, dtype=np.int)])\n",
        "    return X, y\n",
        "\n",
        "\n",
        "X, y = generateData(10)\n",
        "\n",
        "\n",
        "def plot_dboundary(plot_title, weights, offset):\n",
        "    w1 = weights[0]\n",
        "    w2 = weights[1]\n",
        "    b = offset\n",
        "    slope = -w1 / w2\n",
        "    intercept = -b / w2\n",
        "    xx = np.linspace(-1, 1, 10)\n",
        "    yy = xx * slope + intercept\n",
        "    plt.figure()\n",
        "    colormap = np.array([\"r\", \"k\"])\n",
        "\n",
        "    y_color = (y+1)//2\n",
        "    plt.scatter(X[:, 0], X[:, 1], c=colormap[y_color], s=40, alpha=0.7)\n",
        "    plt.title(plot_title)\n",
        "    plt.ylim(-1, 1)\n",
        "    plt.xlim(-1, 1)\n",
        "    plt.plot(xx, yy, \"k-\")\n",
        "\n",
        "\n",
        "ninputs = 2\n",
        "net = Perceptron(ninputs)\n",
        "\n",
        "#---- At random initialization\n",
        "w = net.weights[1:]\n",
        "b = net.weights[0]\n",
        "plot_dboundary(\"Before training\", w, b)\n",
        "\n",
        "filename = \"epoch_0.pdf\"\n",
        "plt.savefig(filename)\n",
        "files.download(filename)\n",
        "\n",
        "#---- After training\n",
        "i = 0\n",
        "while True:\n",
        "  i += 1\n",
        "  net.fit(X, y)\n",
        "  w = net.weights[1:]\n",
        "  b = net.weights[0]\n",
        "\n",
        "  acc = net.eval(X, y)\n",
        "  plot_dboundary(\"Training epoch {} | accuracy {:.2f}\".format(i, acc), w, b)\n",
        "\n",
        "\n",
        "  filename = \"epoch_{}.pdf\".format(i)\n",
        "  plt.savefig(filename)\n",
        "  \n",
        "  # Uncomment to save the disk  \n",
        "  files.download(filename)\n",
        "\n",
        "  if acc == 1.0:\n",
        "      break"
      ]
    }
  ],
  "metadata": {
    "colab": {
      "provenance": []
    },
    "language_info": {
      "name": "python"
    },
    "kernelspec": {
      "name": "python3",
      "display_name": "Python 3"
    },
    "gpuClass": "standard"
  },
  "nbformat": 4,
  "nbformat_minor": 5
}